{
 "cells": [
  {
   "cell_type": "code",
   "execution_count": 3,
   "metadata": {},
   "outputs": [],
   "source": [
    "# data_preparation.py\n",
    "import pandas as pd\n",
    "from sklearn.datasets import load_breast_cancer"
   ]
  },
  {
   "cell_type": "code",
   "execution_count": 6,
   "metadata": {},
   "outputs": [],
   "source": [
    "def load_and_preprocess_data():\n",
    "    # Load dataset\n",
    "    data = load_breast_cancer()\n",
    "    df = pd.DataFrame(data.data, columns=data.feature_names)\n",
    "    df['target'] = data.target\n",
    "    \n",
    "    # Add any preprocessing steps if necessary\n",
    "    # Example: handle missing values, normalization, etc.\n",
    "    \n",
    "    return df\n",
    "\n",
    "if __name__ == \"__main__\":\n",
    "    df = load_and_preprocess_data()\n",
    "    df.to_csv('breast_cancer_data.csv', index=False)"
   ]
  },
  {
   "cell_type": "code",
   "execution_count": 7,
   "metadata": {},
   "outputs": [],
   "source": [
    "# feature_selection.py\n",
    "import pandas as pd\n",
    "from sklearn.feature_selection import SelectKBest, f_classif\n",
    "\n",
    "def select_features(df, k=10):\n",
    "    X = df.drop(columns=['target'])\n",
    "    y = df['target']\n",
    "    \n",
    "    # Select K best features\n",
    "    selector = SelectKBest(score_func=f_classif, k=k)\n",
    "    X_new = selector.fit_transform(X, y)\n",
    "    \n",
    "    # Get selected feature names\n",
    "    mask = selector.get_support()\n",
    "    selected_features = X.columns[mask]\n",
    "    \n",
    "    return pd.DataFrame(X_new, columns=selected_features), y\n",
    "\n",
    "if __name__ == \"__main__\":\n",
    "    df = pd.read_csv('breast_cancer_data.csv')\n",
    "    X_selected, y = select_features(df)\n",
    "    X_selected.to_csv('selected_features.csv', index=False)\n",
    "    y.to_csv('target.csv', index=False)\n"
   ]
  },
  {
   "cell_type": "code",
   "execution_count": 8,
   "metadata": {},
   "outputs": [
    {
     "name": "stdout",
     "output_type": "stream",
     "text": [
      "Best parameters found:\n",
      " {'activation': 'tanh', 'alpha': 0.05, 'hidden_layer_sizes': (50, 100, 50), 'learning_rate': 'constant', 'solver': 'adam'}\n",
      "Best score:\n",
      " 0.9220253164556962\n"
     ]
    },
    {
     "name": "stderr",
     "output_type": "stream",
     "text": [
      "c:\\Users\\broni\\breast_cancer_analysis\\venv\\Lib\\site-packages\\sklearn\\neural_network\\_multilayer_perceptron.py:691: ConvergenceWarning: Stochastic Optimizer: Maximum iterations (100) reached and the optimization hasn't converged yet.\n",
      "  warnings.warn(\n"
     ]
    }
   ],
   "source": [
    "# model_tuning.py\n",
    "import pandas as pd\n",
    "from sklearn.neural_network import MLPClassifier\n",
    "from sklearn.model_selection import GridSearchCV\n",
    "from sklearn.model_selection import train_test_split\n",
    "\n",
    "def grid_search_cv(X, y):\n",
    "    X_train, X_test, y_train, y_test = train_test_split(X, y, test_size=0.3, random_state=42)\n",
    "\n",
    "    # Define the model\n",
    "    model = MLPClassifier(max_iter=100)\n",
    "\n",
    "    # Define parameter grid\n",
    "    parameter_space = {\n",
    "        'hidden_layer_sizes': [(50,50,50), (50,100,50), (100,)],\n",
    "        'activation': ['tanh', 'relu'],\n",
    "        'solver': ['sgd', 'adam'],\n",
    "        'alpha': [0.0001, 0.05],\n",
    "        'learning_rate': ['constant','adaptive'],\n",
    "    }\n",
    "\n",
    "    # Grid Search\n",
    "    clf = GridSearchCV(model, parameter_space, n_jobs=-1, cv=5)\n",
    "    clf.fit(X_train, y_train)\n",
    "    \n",
    "    print('Best parameters found:\\n', clf.best_params_)\n",
    "    print('Best score:\\n', clf.best_score_)\n",
    "\n",
    "    return clf\n",
    "\n",
    "if __name__ == \"__main__\":\n",
    "    X = pd.read_csv('selected_features.csv')\n",
    "    y = pd.read_csv('target.csv').values.ravel()\n",
    "    grid_search_cv(X, y)\n"
   ]
  }
 ],
 "metadata": {
  "kernelspec": {
   "display_name": "venv",
   "language": "python",
   "name": "python3"
  },
  "language_info": {
   "codemirror_mode": {
    "name": "ipython",
    "version": 3
   },
   "file_extension": ".py",
   "mimetype": "text/x-python",
   "name": "python",
   "nbconvert_exporter": "python",
   "pygments_lexer": "ipython3",
   "version": "3.11.9"
  }
 },
 "nbformat": 4,
 "nbformat_minor": 2
}
